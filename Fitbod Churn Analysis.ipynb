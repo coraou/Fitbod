{
 "cells": [
  {
   "cell_type": "markdown",
   "metadata": {},
   "source": [
    "# The Business Problem and My Approach"
   ]
  },
  {
   "cell_type": "markdown",
   "metadata": {},
   "source": [
    "Fitbod is a fitness app that creates a daily and deeply personalized workout routine by analyzing tracked workout data. It has been popular among people who love working out. However, Fitbod also faces customer attrition problem. Thus, it is important to predict which customer is going to churn out and take marketing strategies such as sending emails that promote the product or offering incentives to prevent them from churning out. In the following analyses, based on customers' activity records, I will build a prediction model that predicts which customers will be churning out."
   ]
  },
  {
   "cell_type": "markdown",
   "metadata": {},
   "source": [
    "# Key Findings"
   ]
  },
  {
   "cell_type": "markdown",
   "metadata": {},
   "source": [
    "1. I first looked at the average interval of two subsequent workouts of each customer. I discovered that 87% of them have an interval of less than two weeks. Based on this finding, I define customers who haven't had any workout for more than 14 days as churned customers; \n",
    "\n",
    "2. I then looked at the usage of the 14-day period for churned and active customers; I found that the average number of exercises done by active customers is about 19.3, almost two times that of churned customers. Clearly the two groups of customers differ from each other a lot in terms of usage and thus usage within the 14-day period can be used as predictors of churn; \n",
    "\n",
    "3. Also, I suspected that active and churned customers have different preferences for muscle groups. I looked at the number of exercises done for each muscle groups by active and churned customers. The average numbers of back and quadricep exercises done by active customers are much more than that of churned customers, which indicates that the number of exercises done to improve different muscle groups are also informative of determining churn.\n",
    "\n",
    "4. Based on the discoveries from the above exploratory analysis, I use the number of exercises done on each day in the previous 14 days as well as the total number of exercises done for each muscle group to predict whether a customer will churn out on the eleventh day. After tuning parameters and comparing performances of algorithms, I chose decision tree to build the model. The model can identify 93% of the actual churned customers."
   ]
  },
  {
   "cell_type": "code",
   "execution_count": 1,
   "metadata": {},
   "outputs": [],
   "source": [
    "import pandas as pd\n",
    "import numpy as np\n",
    "import plotly.express as px\n",
    "import plotly.graph_objs as go\n",
    "from scipy import stats\n",
    "import warnings\n",
    "import graphviz\n",
    "# \n",
    "from sklearn.svm import SVC\n",
    "from sklearn import tree\n",
    "from sklearn.tree import DecisionTreeClassifier, plot_tree\n",
    "from sklearn import linear_model\n",
    "from sklearn.neighbors import KNeighborsClassifier\n",
    "from sklearn.ensemble import RandomForestClassifier\n",
    "from sklearn.model_selection import GridSearchCV, train_test_split, StratifiedKFold\n",
    "from sklearn.metrics import classification_report, confusion_matrix, \\\n",
    "                            precision_score, recall_score, f1_score, accuracy_score, \\\n",
    "                            roc_curve, auc"
   ]
  },
  {
   "cell_type": "markdown",
   "metadata": {},
   "source": [
    "# Data"
   ]
  },
  {
   "cell_type": "markdown",
   "metadata": {},
   "source": [
    "## Reading in and Inspecting the dataset"
   ]
  },
  {
   "cell_type": "code",
   "execution_count": 2,
   "metadata": {},
   "outputs": [],
   "source": [
    "data = pd.read_csv('fitbod_OuWenzhe_20200807-195605.csv')"
   ]
  },
  {
   "cell_type": "code",
   "execution_count": 3,
   "metadata": {},
   "outputs": [
    {
     "data": {
      "text/plain": [
       "(25267, 8)"
      ]
     },
     "execution_count": 3,
     "metadata": {},
     "output_type": "execute_result"
    }
   ],
   "source": [
    "data.shape"
   ]
  },
  {
   "cell_type": "code",
   "execution_count": 4,
   "metadata": {
    "scrolled": true
   },
   "outputs": [
    {
     "data": {
      "text/html": [
       "<div>\n",
       "<style scoped>\n",
       "    .dataframe tbody tr th:only-of-type {\n",
       "        vertical-align: middle;\n",
       "    }\n",
       "\n",
       "    .dataframe tbody tr th {\n",
       "        vertical-align: top;\n",
       "    }\n",
       "\n",
       "    .dataframe thead th {\n",
       "        text-align: right;\n",
       "    }\n",
       "</style>\n",
       "<table border=\"1\" class=\"dataframe\">\n",
       "  <thead>\n",
       "    <tr style=\"text-align: right;\">\n",
       "      <th></th>\n",
       "      <th>Date</th>\n",
       "      <th>workoutId</th>\n",
       "      <th>exerciseId</th>\n",
       "      <th>singleSetId</th>\n",
       "      <th>exerciseName</th>\n",
       "      <th>reps</th>\n",
       "      <th>weight</th>\n",
       "      <th>fake_user_id</th>\n",
       "    </tr>\n",
       "  </thead>\n",
       "  <tbody>\n",
       "    <tr>\n",
       "      <th>0</th>\n",
       "      <td>2018-09-19</td>\n",
       "      <td>L9WbPdYFrx</td>\n",
       "      <td>h85ZOw37Wc</td>\n",
       "      <td>YVZTbtgZNL</td>\n",
       "      <td>Dumbbell Bench Press</td>\n",
       "      <td>5</td>\n",
       "      <td>24.947610</td>\n",
       "      <td>fake_id_361</td>\n",
       "    </tr>\n",
       "    <tr>\n",
       "      <th>1</th>\n",
       "      <td>2020-01-09</td>\n",
       "      <td>wib0nC1A5I</td>\n",
       "      <td>G1mxtZtEs5</td>\n",
       "      <td>y1nAkrqupp</td>\n",
       "      <td>Back Squat</td>\n",
       "      <td>5</td>\n",
       "      <td>80.000000</td>\n",
       "      <td>fake_id_358</td>\n",
       "    </tr>\n",
       "    <tr>\n",
       "      <th>2</th>\n",
       "      <td>2019-07-12</td>\n",
       "      <td>u9LKojOiBd</td>\n",
       "      <td>h85ZOw37Wc</td>\n",
       "      <td>KmN8uwpHPB</td>\n",
       "      <td>Dumbbell Bench Press</td>\n",
       "      <td>12</td>\n",
       "      <td>22.679645</td>\n",
       "      <td>fake_id_417</td>\n",
       "    </tr>\n",
       "    <tr>\n",
       "      <th>3</th>\n",
       "      <td>2019-11-21</td>\n",
       "      <td>XWcgCyJBBj</td>\n",
       "      <td>mvkMgAdecH</td>\n",
       "      <td>OBPOCsPvc3</td>\n",
       "      <td>Dumbbell Shoulder Press</td>\n",
       "      <td>10</td>\n",
       "      <td>18.143716</td>\n",
       "      <td>fake_id_404</td>\n",
       "    </tr>\n",
       "    <tr>\n",
       "      <th>4</th>\n",
       "      <td>2020-02-08</td>\n",
       "      <td>rAxB3SPhhB</td>\n",
       "      <td>52vo7F7CLd</td>\n",
       "      <td>F3nOvbxhDD</td>\n",
       "      <td>Close-Grip Bench Press</td>\n",
       "      <td>7</td>\n",
       "      <td>55.000000</td>\n",
       "      <td>fake_id_358</td>\n",
       "    </tr>\n",
       "  </tbody>\n",
       "</table>\n",
       "</div>"
      ],
      "text/plain": [
       "         Date   workoutId  exerciseId singleSetId             exerciseName  \\\n",
       "0  2018-09-19  L9WbPdYFrx  h85ZOw37Wc  YVZTbtgZNL     Dumbbell Bench Press   \n",
       "1  2020-01-09  wib0nC1A5I  G1mxtZtEs5  y1nAkrqupp               Back Squat   \n",
       "2  2019-07-12  u9LKojOiBd  h85ZOw37Wc  KmN8uwpHPB     Dumbbell Bench Press   \n",
       "3  2019-11-21  XWcgCyJBBj  mvkMgAdecH  OBPOCsPvc3  Dumbbell Shoulder Press   \n",
       "4  2020-02-08  rAxB3SPhhB  52vo7F7CLd  F3nOvbxhDD   Close-Grip Bench Press   \n",
       "\n",
       "   reps     weight fake_user_id  \n",
       "0     5  24.947610  fake_id_361  \n",
       "1     5  80.000000  fake_id_358  \n",
       "2    12  22.679645  fake_id_417  \n",
       "3    10  18.143716  fake_id_404  \n",
       "4     7  55.000000  fake_id_358  "
      ]
     },
     "execution_count": 4,
     "metadata": {},
     "output_type": "execute_result"
    }
   ],
   "source": [
    "data.head()"
   ]
  },
  {
   "cell_type": "markdown",
   "metadata": {},
   "source": [
    "We have a dataset that has information about each workout of customers, including the date, the type of exercises, reps, weight."
   ]
  },
  {
   "cell_type": "code",
   "execution_count": 5,
   "metadata": {},
   "outputs": [],
   "source": [
    "data = data.sort_values(by=['fake_user_id','Date'])"
   ]
  },
  {
   "cell_type": "code",
   "execution_count": 6,
   "metadata": {},
   "outputs": [],
   "source": [
    "# Coverting Date variable to datetime type\n",
    "data['Date'] = pd.to_datetime(data['Date'])"
   ]
  },
  {
   "cell_type": "code",
   "execution_count": 7,
   "metadata": {},
   "outputs": [
    {
     "data": {
      "text/plain": [
       "array(['Back Squat', 'Barbell Bench Press', 'Deadlift',\n",
       "       'Dumbbell Shoulder Press', 'Close-Grip Bench Press',\n",
       "       'Dumbbell Bent Over Row', 'Dumbbell Lunge', 'Dumbbell Row',\n",
       "       'Dumbbell Bench Press'], dtype=object)"
      ]
     },
     "execution_count": 7,
     "metadata": {},
     "output_type": "execute_result"
    }
   ],
   "source": [
    "data['exerciseName'].unique()"
   ]
  },
  {
   "cell_type": "markdown",
   "metadata": {},
   "source": [
    "There are 9 types of exercises."
   ]
  },
  {
   "cell_type": "code",
   "execution_count": 8,
   "metadata": {},
   "outputs": [
    {
     "data": {
      "text/plain": [
       "101"
      ]
     },
     "execution_count": 8,
     "metadata": {},
     "output_type": "execute_result"
    }
   ],
   "source": [
    "data['fake_user_id'].nunique()"
   ]
  },
  {
   "cell_type": "markdown",
   "metadata": {},
   "source": [
    "There are 101 customers"
   ]
  },
  {
   "cell_type": "markdown",
   "metadata": {},
   "source": [
    "## Checking null values"
   ]
  },
  {
   "cell_type": "code",
   "execution_count": 9,
   "metadata": {
    "scrolled": true
   },
   "outputs": [
    {
     "data": {
      "text/plain": [
       "Date            0.0\n",
       "workoutId       0.0\n",
       "exerciseId      0.0\n",
       "singleSetId     0.0\n",
       "exerciseName    0.0\n",
       "reps            0.0\n",
       "weight          0.0\n",
       "fake_user_id    0.0\n",
       "dtype: float64"
      ]
     },
     "execution_count": 9,
     "metadata": {},
     "output_type": "execute_result"
    }
   ],
   "source": [
    "data.isnull().sum() / data.shape[0]"
   ]
  },
  {
   "cell_type": "markdown",
   "metadata": {},
   "source": [
    "There are no null value in this dataset."
   ]
  },
  {
   "cell_type": "markdown",
   "metadata": {},
   "source": [
    "### Excluding customers who had fewer than 3 workouts"
   ]
  },
  {
   "cell_type": "markdown",
   "metadata": {},
   "source": [
    "In this analysis, I only considered customers who had more than three workouts; Those customers are those who have converted and within the range of churning-out analysis; As for customers who had fewer than 3 workouts, they are probably new customers. They should be considered when we are doing landing analysis;"
   ]
  },
  {
   "cell_type": "code",
   "execution_count": 10,
   "metadata": {},
   "outputs": [],
   "source": [
    "# Excluding customers who have fewer than 3 workouts\n",
    "d1 = pd.DataFrame(data.groupby('fake_user_id')['workoutId'].nunique()).reset_index()\n",
    "irrelevant_ids = d1[d1['workoutId']<=3]['fake_user_id']\n",
    "data=data[data['fake_user_id'].isin(irrelevant_ids)==False]"
   ]
  },
  {
   "cell_type": "code",
   "execution_count": 11,
   "metadata": {
    "scrolled": false
   },
   "outputs": [
    {
     "data": {
      "text/plain": [
       "96"
      ]
     },
     "execution_count": 11,
     "metadata": {},
     "output_type": "execute_result"
    }
   ],
   "source": [
    "data['fake_user_id'].nunique()"
   ]
  },
  {
   "cell_type": "markdown",
   "metadata": {},
   "source": [
    "There are 96 customers left in the dataset;"
   ]
  },
  {
   "cell_type": "markdown",
   "metadata": {},
   "source": [
    "## Feature Engineering"
   ]
  },
  {
   "cell_type": "markdown",
   "metadata": {},
   "source": [
    "When doing exercises, people always have a target muscle groups, so besides just having the exercises names, I'd like to see which muscle group the customers are actually working on."
   ]
  },
  {
   "cell_type": "code",
   "execution_count": 12,
   "metadata": {},
   "outputs": [],
   "source": [
    "dictionary = {\n",
    "    'Dumbbell Bench Press':'Chest', 'Back Squat':'Quadricep', 'Dumbbell Shoulder Press':'Shoulders',\n",
    "       'Close-Grip Bench Press':'Tricep', 'Barbell Bench Press':'Chest', 'Deadlift':'Quadricep',\n",
    "       'Dumbbell Lunge':'Quadricep', 'Dumbbell Bent Over Row':'Back', 'Dumbbell Row':'Back'\n",
    "}"
   ]
  },
  {
   "cell_type": "code",
   "execution_count": 13,
   "metadata": {},
   "outputs": [],
   "source": [
    "data['Muscles'] = data['exerciseName'].map(dictionary)"
   ]
  },
  {
   "cell_type": "markdown",
   "metadata": {},
   "source": [
    "As the analysis will not be using weight and reps variables, I didn't inspect these variables; But if I am doing an analysis where I will be using these variables, I will use boxplots to look at their distributions and remove outliers."
   ]
  },
  {
   "cell_type": "markdown",
   "metadata": {},
   "source": [
    "# Exploratory Analysis"
   ]
  },
  {
   "cell_type": "markdown",
   "metadata": {},
   "source": [
    "## Interval between activities of customers"
   ]
  },
  {
   "cell_type": "markdown",
   "metadata": {},
   "source": [
    "In this analysis, I will be looking at the average time interval between two workouts of a customer. The motivation for doing this analysis is: to see when is the appropriate time for Fitbod to take actions; If I discover that the majority of customers have a time interval shorter than X days, then if a customer is not using the app for a period longer than X days, it is very likely that the customers will not be using the app anymore and churn out;"
   ]
  },
  {
   "cell_type": "code",
   "execution_count": 14,
   "metadata": {},
   "outputs": [],
   "source": [
    "# Calculating the time interval between workouts for each customer\n",
    "data2 = data.groupby('fake_user_id')['Date'].apply(lambda x:(x-x.shift(1)))\n",
    "data2 = pd.DataFrame(data2)\n",
    "data2['fake_user_id'] = data['fake_user_id']"
   ]
  },
  {
   "cell_type": "code",
   "execution_count": 15,
   "metadata": {},
   "outputs": [],
   "source": [
    "# Excluding irrelevant data points\n",
    "data2 = data2[(data2['Date']!='0 days')&(data2['Date'].isnull()==False)]"
   ]
  },
  {
   "cell_type": "code",
   "execution_count": 16,
   "metadata": {},
   "outputs": [],
   "source": [
    "# Getting the number of days between workouts\n",
    "data2['Date'] = data2['Date'].astype('str').str.split(n=1,expand=True)[0].astype('int64')"
   ]
  },
  {
   "cell_type": "code",
   "execution_count": 17,
   "metadata": {
    "scrolled": true
   },
   "outputs": [],
   "source": [
    "# Calculating the average time interval for each customer and see the percentage of different time intervals\n",
    "eda1 = data2.groupby('fake_user_id')['Date'].mean().astype('int64').value_counts().sort_index()/ data['fake_user_id'].nunique()\n",
    "eda1 = pd.DataFrame(eda1.reset_index())\n",
    "eda1['Date'] = eda1['Date'] * 100\n",
    "eda1 = eda1.rename(columns={'index':'Day','Date':'Percentage'})"
   ]
  },
  {
   "cell_type": "code",
   "execution_count": 18,
   "metadata": {},
   "outputs": [],
   "source": [
    "eda1.to_csv('fitbod_eda1.csv')"
   ]
  },
  {
   "cell_type": "code",
   "execution_count": 19,
   "metadata": {},
   "outputs": [
    {
     "data": {
      "text/plain": [
       "87.5"
      ]
     },
     "execution_count": 19,
     "metadata": {},
     "output_type": "execute_result"
    }
   ],
   "source": [
    "# Nearly 87.5% of customers have an average interval of fewer than 14 days\n",
    "eda1[eda1['Day']<=14]['Percentage'].sum()"
   ]
  },
  {
   "cell_type": "markdown",
   "metadata": {},
   "source": [
    "We can see that 87.5% of customers have an average gap of equal to or fewer than 14 days. Based on this finding, we can say that if a customer hasn't have any workout for a more than 14 days interval, it is very likely he will never come back and has churned out; Thus, I define a customer who doesn't have any activity for more than 14 days as churned customers; "
   ]
  },
  {
   "cell_type": "markdown",
   "metadata": {},
   "source": [
    "## Usage of churned customers and active customers"
   ]
  },
  {
   "cell_type": "markdown",
   "metadata": {},
   "source": [
    "Customer activity usage is often a big indicator of churning. And the above analysis shows that a time period of 14 days is important in determing whether a customer will churn or not. In the following analysis, I will look at the workout usage of churned and active customers in a 14-day period. "
   ]
  },
  {
   "cell_type": "markdown",
   "metadata": {},
   "source": [
    "### To do that, I need to do data engineering first..."
   ]
  },
  {
   "cell_type": "markdown",
   "metadata": {},
   "source": [
    "### Finding out churned customers"
   ]
  },
  {
   "cell_type": "markdown",
   "metadata": {},
   "source": [
    "Today is 2020/8/7. I'll define customers whose latest activity record is before 2020/7/24 to be churned customers and customers whose whose latest activity record is after 2020/7/24 to be active customers."
   ]
  },
  {
   "cell_type": "code",
   "execution_count": 20,
   "metadata": {},
   "outputs": [],
   "source": [
    "# Not churn vs Churn: 1:3.5\n",
    "data_grouped_1 = data.groupby('fake_user_id')['Date'].max()>='2020-07-24'\n",
    "active_user_ids = data_grouped_1[data_grouped_1==True].index\n",
    "churned_user_ids = data_grouped_1[data_grouped_1==False].index"
   ]
  },
  {
   "cell_type": "code",
   "execution_count": 21,
   "metadata": {},
   "outputs": [],
   "source": [
    "n_active = len(active_user_ids)"
   ]
  },
  {
   "cell_type": "code",
   "execution_count": 22,
   "metadata": {},
   "outputs": [
    {
     "data": {
      "text/plain": [
       "21"
      ]
     },
     "execution_count": 22,
     "metadata": {},
     "output_type": "execute_result"
    }
   ],
   "source": [
    "n_active"
   ]
  },
  {
   "cell_type": "code",
   "execution_count": 23,
   "metadata": {},
   "outputs": [],
   "source": [
    "n_churned = len(churned_user_ids)"
   ]
  },
  {
   "cell_type": "code",
   "execution_count": 24,
   "metadata": {},
   "outputs": [
    {
     "data": {
      "text/plain": [
       "75"
      ]
     },
     "execution_count": 24,
     "metadata": {},
     "output_type": "execute_result"
    }
   ],
   "source": [
    "n_churned"
   ]
  },
  {
   "cell_type": "markdown",
   "metadata": {},
   "source": [
    "There are 21 active customers and 75 churned customers."
   ]
  },
  {
   "cell_type": "markdown",
   "metadata": {},
   "source": [
    "Getting the records of 14 days before the latest activity record for each customer"
   ]
  },
  {
   "cell_type": "code",
   "execution_count": 25,
   "metadata": {},
   "outputs": [],
   "source": [
    "data_grouped = pd.DataFrame(data.groupby('fake_user_id')['Date'].max().reset_index())\n",
    "data_grouped = data_grouped.rename(columns={'Date':'Max_Date'})"
   ]
  },
  {
   "cell_type": "code",
   "execution_count": 26,
   "metadata": {
    "scrolled": true
   },
   "outputs": [
    {
     "data": {
      "text/html": [
       "<div>\n",
       "<style scoped>\n",
       "    .dataframe tbody tr th:only-of-type {\n",
       "        vertical-align: middle;\n",
       "    }\n",
       "\n",
       "    .dataframe tbody tr th {\n",
       "        vertical-align: top;\n",
       "    }\n",
       "\n",
       "    .dataframe thead th {\n",
       "        text-align: right;\n",
       "    }\n",
       "</style>\n",
       "<table border=\"1\" class=\"dataframe\">\n",
       "  <thead>\n",
       "    <tr style=\"text-align: right;\">\n",
       "      <th></th>\n",
       "      <th>fake_user_id</th>\n",
       "      <th>Max_Date</th>\n",
       "    </tr>\n",
       "  </thead>\n",
       "  <tbody>\n",
       "    <tr>\n",
       "      <th>0</th>\n",
       "      <td>fake_id_351</td>\n",
       "      <td>2020-08-07</td>\n",
       "    </tr>\n",
       "    <tr>\n",
       "      <th>1</th>\n",
       "      <td>fake_id_352</td>\n",
       "      <td>2020-07-15</td>\n",
       "    </tr>\n",
       "    <tr>\n",
       "      <th>2</th>\n",
       "      <td>fake_id_353</td>\n",
       "      <td>2019-12-29</td>\n",
       "    </tr>\n",
       "    <tr>\n",
       "      <th>3</th>\n",
       "      <td>fake_id_354</td>\n",
       "      <td>2020-06-22</td>\n",
       "    </tr>\n",
       "    <tr>\n",
       "      <th>4</th>\n",
       "      <td>fake_id_355</td>\n",
       "      <td>2020-01-13</td>\n",
       "    </tr>\n",
       "  </tbody>\n",
       "</table>\n",
       "</div>"
      ],
      "text/plain": [
       "  fake_user_id   Max_Date\n",
       "0  fake_id_351 2020-08-07\n",
       "1  fake_id_352 2020-07-15\n",
       "2  fake_id_353 2019-12-29\n",
       "3  fake_id_354 2020-06-22\n",
       "4  fake_id_355 2020-01-13"
      ]
     },
     "execution_count": 26,
     "metadata": {},
     "output_type": "execute_result"
    }
   ],
   "source": [
    "data_grouped.head()"
   ]
  },
  {
   "cell_type": "code",
   "execution_count": 27,
   "metadata": {},
   "outputs": [],
   "source": [
    "# Getting work out frequency of each muscle group for each customer\n",
    "exercises = pd.DataFrame(data.groupby(['fake_user_id','Date','Muscles']).size().reset_index())\n",
    "exercises = exercises.rename(columns={0:'times'})"
   ]
  },
  {
   "cell_type": "code",
   "execution_count": 28,
   "metadata": {},
   "outputs": [],
   "source": [
    "exercises = exercises.merge(data_grouped)"
   ]
  },
  {
   "cell_type": "code",
   "execution_count": 29,
   "metadata": {},
   "outputs": [],
   "source": [
    "exercises['Max_Date'] = pd.to_datetime(exercises['Max_Date'])\n",
    "exercises['Date'] = pd.to_datetime(exercises['Date'])"
   ]
  },
  {
   "cell_type": "code",
   "execution_count": 30,
   "metadata": {
    "scrolled": true
   },
   "outputs": [
    {
     "data": {
      "text/html": [
       "<div>\n",
       "<style scoped>\n",
       "    .dataframe tbody tr th:only-of-type {\n",
       "        vertical-align: middle;\n",
       "    }\n",
       "\n",
       "    .dataframe tbody tr th {\n",
       "        vertical-align: top;\n",
       "    }\n",
       "\n",
       "    .dataframe thead th {\n",
       "        text-align: right;\n",
       "    }\n",
       "</style>\n",
       "<table border=\"1\" class=\"dataframe\">\n",
       "  <thead>\n",
       "    <tr style=\"text-align: right;\">\n",
       "      <th></th>\n",
       "      <th>fake_user_id</th>\n",
       "      <th>Date</th>\n",
       "      <th>Muscles</th>\n",
       "      <th>times</th>\n",
       "      <th>Max_Date</th>\n",
       "    </tr>\n",
       "  </thead>\n",
       "  <tbody>\n",
       "    <tr>\n",
       "      <th>235</th>\n",
       "      <td>fake_id_351</td>\n",
       "      <td>2020-07-24</td>\n",
       "      <td>Quadricep</td>\n",
       "      <td>3</td>\n",
       "      <td>2020-08-07</td>\n",
       "    </tr>\n",
       "    <tr>\n",
       "      <th>236</th>\n",
       "      <td>fake_id_351</td>\n",
       "      <td>2020-07-28</td>\n",
       "      <td>Quadricep</td>\n",
       "      <td>10</td>\n",
       "      <td>2020-08-07</td>\n",
       "    </tr>\n",
       "    <tr>\n",
       "      <th>237</th>\n",
       "      <td>fake_id_351</td>\n",
       "      <td>2020-07-29</td>\n",
       "      <td>Chest</td>\n",
       "      <td>4</td>\n",
       "      <td>2020-08-07</td>\n",
       "    </tr>\n",
       "    <tr>\n",
       "      <th>238</th>\n",
       "      <td>fake_id_351</td>\n",
       "      <td>2020-07-30</td>\n",
       "      <td>Quadricep</td>\n",
       "      <td>3</td>\n",
       "      <td>2020-08-07</td>\n",
       "    </tr>\n",
       "    <tr>\n",
       "      <th>239</th>\n",
       "      <td>fake_id_351</td>\n",
       "      <td>2020-08-01</td>\n",
       "      <td>Quadricep</td>\n",
       "      <td>4</td>\n",
       "      <td>2020-08-07</td>\n",
       "    </tr>\n",
       "  </tbody>\n",
       "</table>\n",
       "</div>"
      ],
      "text/plain": [
       "    fake_user_id       Date    Muscles  times   Max_Date\n",
       "235  fake_id_351 2020-07-24  Quadricep      3 2020-08-07\n",
       "236  fake_id_351 2020-07-28  Quadricep     10 2020-08-07\n",
       "237  fake_id_351 2020-07-29      Chest      4 2020-08-07\n",
       "238  fake_id_351 2020-07-30  Quadricep      3 2020-08-07\n",
       "239  fake_id_351 2020-08-01  Quadricep      4 2020-08-07"
      ]
     },
     "execution_count": 30,
     "metadata": {},
     "output_type": "execute_result"
    }
   ],
   "source": [
    "# Getting the last 14 days' activities\n",
    "exercises = exercises[(exercises['Max_Date'] - exercises['Date']).dt.days<=14]\n",
    "exercises.head()"
   ]
  },
  {
   "cell_type": "code",
   "execution_count": 31,
   "metadata": {},
   "outputs": [],
   "source": [
    "# Determining active status of each customer\n",
    "exercises['Churn'] = np.where(exercises['fake_user_id'].isin(active_user_ids),0,1)"
   ]
  },
  {
   "cell_type": "code",
   "execution_count": 32,
   "metadata": {},
   "outputs": [],
   "source": [
    "exercises['Day'] = 14 - (exercises['Max_Date'] - exercises['Date']).dt.days"
   ]
  },
  {
   "cell_type": "code",
   "execution_count": 33,
   "metadata": {},
   "outputs": [],
   "source": [
    "# for imputing records\n",
    "group = exercises.groupby('fake_user_id')['Date'].nunique()\n",
    "ids_14 = group[group==1].index"
   ]
  },
  {
   "cell_type": "code",
   "execution_count": 34,
   "metadata": {},
   "outputs": [],
   "source": [
    "ids_14_churn = churned_user_ids[churned_user_ids.isin(ids_14)]\n",
    "ids_14_active = active_user_ids[active_user_ids.isin(ids_14)]"
   ]
  },
  {
   "cell_type": "code",
   "execution_count": 35,
   "metadata": {},
   "outputs": [],
   "source": [
    "# Getting the total usage of churned customers\n",
    "churned_usage = pd.DataFrame(exercises[(exercises['Churn']==1)&(exercises['Day']<14)].groupby('fake_user_id')['times'].sum().value_counts().sort_index()).reset_index()\n",
    "df2 = pd.DataFrame([[0,len(ids_14_churn)]], columns=['index','times'])\n",
    "churned_usage = pd.concat([churned_usage,df2])\n",
    "churned_usage = churned_usage.rename(columns={'index':'exercises'})"
   ]
  },
  {
   "cell_type": "code",
   "execution_count": 36,
   "metadata": {
    "scrolled": false
   },
   "outputs": [],
   "source": [
    "# Getting the average number of exercises churned customers have done in the previous 14 days\n",
    "avg_churned = (churned_usage['times'] * churned_usage['exercises']).sum() / n_churned"
   ]
  },
  {
   "cell_type": "code",
   "execution_count": 37,
   "metadata": {},
   "outputs": [],
   "source": [
    "# Getting the total usage of active customers\n",
    "active_usage = pd.DataFrame(exercises[(exercises['Churn']==0)&(exercises['Day']<14)].groupby('fake_user_id')['times'].sum().value_counts().sort_index()).reset_index()\n",
    "df2 = pd.DataFrame([[0,len(ids_14_active)]], columns=['index','times'])\n",
    "active_usage = pd.concat([active_usage,df2])\n",
    "active_usage = active_usage.rename(columns={'index':'exercises'})"
   ]
  },
  {
   "cell_type": "code",
   "execution_count": 38,
   "metadata": {
    "scrolled": true
   },
   "outputs": [],
   "source": [
    "# Getting the average number of exercises active customers have done in the previous 14 days\n",
    "avg_active = (active_usage['times'] * active_usage['exercises']).sum() / n_active"
   ]
  },
  {
   "cell_type": "code",
   "execution_count": 39,
   "metadata": {},
   "outputs": [],
   "source": [
    "avg_usage_df = pd.DataFrame({'Customer Type':['Active','Churned'],\n",
    "                             'Average Usage':[avg_active,avg_churned]})"
   ]
  },
  {
   "cell_type": "code",
   "execution_count": 40,
   "metadata": {},
   "outputs": [
    {
     "data": {
      "text/html": [
       "<div>\n",
       "<style scoped>\n",
       "    .dataframe tbody tr th:only-of-type {\n",
       "        vertical-align: middle;\n",
       "    }\n",
       "\n",
       "    .dataframe tbody tr th {\n",
       "        vertical-align: top;\n",
       "    }\n",
       "\n",
       "    .dataframe thead th {\n",
       "        text-align: right;\n",
       "    }\n",
       "</style>\n",
       "<table border=\"1\" class=\"dataframe\">\n",
       "  <thead>\n",
       "    <tr style=\"text-align: right;\">\n",
       "      <th></th>\n",
       "      <th>Customer Type</th>\n",
       "      <th>Average Usage</th>\n",
       "    </tr>\n",
       "  </thead>\n",
       "  <tbody>\n",
       "    <tr>\n",
       "      <th>0</th>\n",
       "      <td>Active</td>\n",
       "      <td>19.523810</td>\n",
       "    </tr>\n",
       "    <tr>\n",
       "      <th>1</th>\n",
       "      <td>Churned</td>\n",
       "      <td>9.813333</td>\n",
       "    </tr>\n",
       "  </tbody>\n",
       "</table>\n",
       "</div>"
      ],
      "text/plain": [
       "  Customer Type  Average Usage\n",
       "0        Active      19.523810\n",
       "1       Churned       9.813333"
      ]
     },
     "execution_count": 40,
     "metadata": {},
     "output_type": "execute_result"
    }
   ],
   "source": [
    "avg_usage_df"
   ]
  },
  {
   "cell_type": "code",
   "execution_count": 66,
   "metadata": {},
   "outputs": [
    {
     "data": {
      "text/plain": [
       "<matplotlib.axes._subplots.AxesSubplot at 0x1a1b05ac88>"
      ]
     },
     "execution_count": 66,
     "metadata": {},
     "output_type": "execute_result"
    },
    {
     "data": {
      "image/png": "[encoded data removed]",
      "text/plain": [
       "<Figure size 432x288 with 1 Axes>"
      ]
     },
     "metadata": {
      "needs_background": "light"
     },
     "output_type": "display_data"
    }
   ],
   "source": [
    "avg_usage_df.plot.barh(x='Customer Type',y='Average Usage')"
   ]
  },
  {
   "cell_type": "code",
   "execution_count": 42,
   "metadata": {},
   "outputs": [],
   "source": [
    "# Besides plotting them out, I want to do a statistical t-test to see if they are statistically different from each other\n",
    "churned_df = pd.DataFrame(exercises[(exercises['Churn']==1)&(exercises['Day']<14)].groupby('fake_user_id')['times'].sum()).reset_index()\n",
    "churned_df2 = pd.DataFrame({'fake_user_id':ids_14_churn,'times':0})\n",
    "churned_df = pd.concat([churned_df,churned_df2])\n",
    "\n",
    "active_df = pd.DataFrame(exercises[(exercises['Churn']==0)&(exercises['Day']<14)].groupby('fake_user_id')['times'].sum()).reset_index()\n",
    "active_df2 = pd.DataFrame({'fake_user_id':ids_14_active,'times':0})\n",
    "active_df = pd.concat([active_df,active_df2])"
   ]
  },
  {
   "cell_type": "code",
   "execution_count": 43,
   "metadata": {},
   "outputs": [
    {
     "data": {
      "text/plain": [
       "Ttest_indResult(statistic=-2.6559128443478355, pvalue=0.013715217578322156)"
      ]
     },
     "execution_count": 43,
     "metadata": {},
     "output_type": "execute_result"
    }
   ],
   "source": [
    "stats.ttest_ind(churned_df['times'], active_df['times'], equal_var = False)"
   ]
  },
  {
   "cell_type": "markdown",
   "metadata": {},
   "source": [
    "p-value is very small. The numbers of exercises done by these two groups are statistically significant different."
   ]
  },
  {
   "cell_type": "markdown",
   "metadata": {},
   "source": [
    "We can see that the average number of exercises an active customer has done in the previous 14 days is 19.5 while that of a churned customer is 9.8; The average number of exercises of an active customer is almost twice as many as that of a churned customer; Also, the t-test shows these two groups are statistically significant different in terms of their workout frequency. We can see that active customers differ from churned customers in usage a lot. And thus the activity usage in the previous 14 days is indicative of churn;\n",
    "\n",
    "There is also another practical reason for using the previous 14 days information. Updating the model and taking actions towards churned customers bi-weekly is more timely and accurate than monthly and less costly than daily. "
   ]
  },
  {
   "cell_type": "markdown",
   "metadata": {},
   "source": [
    "### Types of muscle groups active customers and churned customers have been working on"
   ]
  },
  {
   "cell_type": "markdown",
   "metadata": {},
   "source": [
    "In the following analysis, I will be looking at the average number of exercises active and churned customers have done to work on different muscle groups; The intuition of looking at this feature is Fitbod offering recommendation on reps, sets and weight. It is likely that for people who are working on certain muscle groups, recommendations is much more effective than working alone and thus this type of people will have have less chance of churning out.  "
   ]
  },
  {
   "cell_type": "code",
   "execution_count": 44,
   "metadata": {},
   "outputs": [],
   "source": [
    "# Pivoting table\n",
    "exercises_1 = exercises.pivot_table(index=['fake_user_id', 'Day'], columns='Muscles', values='times', fill_value=0).reset_index()"
   ]
  },
  {
   "cell_type": "code",
   "execution_count": 45,
   "metadata": {},
   "outputs": [],
   "source": [
    "# imputing missing days among active days when there is no usage information\n",
    "exercises_1['next_day'] = exercises_1.groupby('fake_user_id')['Day'].apply(lambda x:x.shift(-1))\n",
    "exercises_1['next_day'] = exercises_1['next_day'].fillna(0)\n",
    "exercises_1['next_day'] = exercises_1['next_day'].astype(\"int64\")"
   ]
  },
  {
   "cell_type": "code",
   "execution_count": 46,
   "metadata": {},
   "outputs": [],
   "source": [
    "muscles_n = data['Muscles'].nunique()"
   ]
  },
  {
   "cell_type": "code",
   "execution_count": 47,
   "metadata": {},
   "outputs": [],
   "source": [
    "muscles = data['Muscles'].unique()"
   ]
  },
  {
   "cell_type": "code",
   "execution_count": 48,
   "metadata": {},
   "outputs": [],
   "source": [
    "r = exercises_1[(exercises_1['next_day'] - exercises_1['Day'] > 1)&(exercises_1['next_day']!=0)]['fake_user_id'].values\n",
    "f = exercises_1[(exercises_1['next_day'] - exercises_1['Day'] > 1)&(exercises_1['next_day']!=0)]['Day'].values\n",
    "t = exercises_1[(exercises_1['next_day'] - exercises_1['Day'] > 1)&(exercises_1['next_day']!=0)]['next_day'].values\n",
    "left_df = pd.DataFrame(dict(\n",
    "        fake_user_id=r.repeat(muscles_n*(t - f - 1)),\n",
    "        Day=np.concatenate([np.repeat(np.arange(f+1, t),muscles_n) for f, t in zip(f, t)]),\n",
    "        Muscles=np.concatenate([list(muscles)*(t-f-1) for f, t in zip(f, t)]),\n",
    "        times=0\n",
    "    ))"
   ]
  },
  {
   "cell_type": "code",
   "execution_count": 49,
   "metadata": {},
   "outputs": [
    {
     "data": {
      "text/html": [
       "<div>\n",
       "<style scoped>\n",
       "    .dataframe tbody tr th:only-of-type {\n",
       "        vertical-align: middle;\n",
       "    }\n",
       "\n",
       "    .dataframe tbody tr th {\n",
       "        vertical-align: top;\n",
       "    }\n",
       "\n",
       "    .dataframe thead th {\n",
       "        text-align: right;\n",
       "    }\n",
       "</style>\n",
       "<table border=\"1\" class=\"dataframe\">\n",
       "  <thead>\n",
       "    <tr style=\"text-align: right;\">\n",
       "      <th></th>\n",
       "      <th>fake_user_id</th>\n",
       "      <th>Day</th>\n",
       "      <th>Back</th>\n",
       "      <th>Chest</th>\n",
       "      <th>Quadricep</th>\n",
       "      <th>Shoulders</th>\n",
       "      <th>Tricep</th>\n",
       "    </tr>\n",
       "  </thead>\n",
       "  <tbody>\n",
       "    <tr>\n",
       "      <th>0</th>\n",
       "      <td>fake_id_351</td>\n",
       "      <td>1</td>\n",
       "      <td>0</td>\n",
       "      <td>0</td>\n",
       "      <td>0</td>\n",
       "      <td>0</td>\n",
       "      <td>0</td>\n",
       "    </tr>\n",
       "    <tr>\n",
       "      <th>1</th>\n",
       "      <td>fake_id_351</td>\n",
       "      <td>2</td>\n",
       "      <td>0</td>\n",
       "      <td>0</td>\n",
       "      <td>0</td>\n",
       "      <td>0</td>\n",
       "      <td>0</td>\n",
       "    </tr>\n",
       "    <tr>\n",
       "      <th>2</th>\n",
       "      <td>fake_id_351</td>\n",
       "      <td>3</td>\n",
       "      <td>0</td>\n",
       "      <td>0</td>\n",
       "      <td>0</td>\n",
       "      <td>0</td>\n",
       "      <td>0</td>\n",
       "    </tr>\n",
       "    <tr>\n",
       "      <th>3</th>\n",
       "      <td>fake_id_351</td>\n",
       "      <td>7</td>\n",
       "      <td>0</td>\n",
       "      <td>0</td>\n",
       "      <td>0</td>\n",
       "      <td>0</td>\n",
       "      <td>0</td>\n",
       "    </tr>\n",
       "    <tr>\n",
       "      <th>4</th>\n",
       "      <td>fake_id_351</td>\n",
       "      <td>9</td>\n",
       "      <td>0</td>\n",
       "      <td>0</td>\n",
       "      <td>0</td>\n",
       "      <td>0</td>\n",
       "      <td>0</td>\n",
       "    </tr>\n",
       "  </tbody>\n",
       "</table>\n",
       "</div>"
      ],
      "text/plain": [
       "  fake_user_id  Day  Back  Chest  Quadricep  Shoulders  Tricep\n",
       "0  fake_id_351    1     0      0          0          0       0\n",
       "1  fake_id_351    2     0      0          0          0       0\n",
       "2  fake_id_351    3     0      0          0          0       0\n",
       "3  fake_id_351    7     0      0          0          0       0\n",
       "4  fake_id_351    9     0      0          0          0       0"
      ]
     },
     "execution_count": 49,
     "metadata": {},
     "output_type": "execute_result"
    }
   ],
   "source": [
    "left_df = left_df.pivot_table(index=['fake_user_id', 'Day'], columns='Muscles', values='times', fill_value=0).reset_index()\n",
    "left_df = left_df.rename_axis(None, axis=\"columns\")\n",
    "left_df.head()"
   ]
  },
  {
   "cell_type": "code",
   "execution_count": 50,
   "metadata": {},
   "outputs": [],
   "source": [
    "one_records = pd.DataFrame(exercises_1.groupby('fake_user_id').size()==1).reset_index()\n",
    "one_records_ids = one_records[one_records[0]==True]['fake_user_id']"
   ]
  },
  {
   "cell_type": "code",
   "execution_count": 51,
   "metadata": {},
   "outputs": [],
   "source": [
    "# Imputing records of customers who didn't work out for the 14 days before their latest active day\n",
    "imputed_df = pd.DataFrame(dict(fake_user_id=np.repeat(list(one_records_ids),14),\n",
    "                               Day=list(range(14))*len(one_records_ids),\n",
    "                               Back=list([0])*14*len(one_records_ids),\n",
    "                               Chest=list([0])*14*len(one_records_ids),\n",
    "                               Quadricep=list([0])*14*len(one_records_ids),\n",
    "                               Shoulders=list([0])*14*len(one_records_ids),\n",
    "                               Tricep=list([0])*14*len(one_records_ids)))"
   ]
  },
  {
   "cell_type": "code",
   "execution_count": 52,
   "metadata": {
    "scrolled": true
   },
   "outputs": [
    {
     "data": {
      "text/html": [
       "<div>\n",
       "<style scoped>\n",
       "    .dataframe tbody tr th:only-of-type {\n",
       "        vertical-align: middle;\n",
       "    }\n",
       "\n",
       "    .dataframe tbody tr th {\n",
       "        vertical-align: top;\n",
       "    }\n",
       "\n",
       "    .dataframe thead th {\n",
       "        text-align: right;\n",
       "    }\n",
       "</style>\n",
       "<table border=\"1\" class=\"dataframe\">\n",
       "  <thead>\n",
       "    <tr style=\"text-align: right;\">\n",
       "      <th></th>\n",
       "      <th>fake_user_id</th>\n",
       "      <th>Day</th>\n",
       "      <th>Back</th>\n",
       "      <th>Chest</th>\n",
       "      <th>Quadricep</th>\n",
       "      <th>Shoulders</th>\n",
       "      <th>Tricep</th>\n",
       "    </tr>\n",
       "  </thead>\n",
       "  <tbody>\n",
       "    <tr>\n",
       "      <th>0</th>\n",
       "      <td>fake_id_354</td>\n",
       "      <td>0</td>\n",
       "      <td>0</td>\n",
       "      <td>0</td>\n",
       "      <td>0</td>\n",
       "      <td>0</td>\n",
       "      <td>0</td>\n",
       "    </tr>\n",
       "    <tr>\n",
       "      <th>1</th>\n",
       "      <td>fake_id_354</td>\n",
       "      <td>1</td>\n",
       "      <td>0</td>\n",
       "      <td>0</td>\n",
       "      <td>0</td>\n",
       "      <td>0</td>\n",
       "      <td>0</td>\n",
       "    </tr>\n",
       "    <tr>\n",
       "      <th>2</th>\n",
       "      <td>fake_id_354</td>\n",
       "      <td>2</td>\n",
       "      <td>0</td>\n",
       "      <td>0</td>\n",
       "      <td>0</td>\n",
       "      <td>0</td>\n",
       "      <td>0</td>\n",
       "    </tr>\n",
       "    <tr>\n",
       "      <th>3</th>\n",
       "      <td>fake_id_354</td>\n",
       "      <td>3</td>\n",
       "      <td>0</td>\n",
       "      <td>0</td>\n",
       "      <td>0</td>\n",
       "      <td>0</td>\n",
       "      <td>0</td>\n",
       "    </tr>\n",
       "    <tr>\n",
       "      <th>4</th>\n",
       "      <td>fake_id_354</td>\n",
       "      <td>4</td>\n",
       "      <td>0</td>\n",
       "      <td>0</td>\n",
       "      <td>0</td>\n",
       "      <td>0</td>\n",
       "      <td>0</td>\n",
       "    </tr>\n",
       "  </tbody>\n",
       "</table>\n",
       "</div>"
      ],
      "text/plain": [
       "  fake_user_id  Day  Back  Chest  Quadricep  Shoulders  Tricep\n",
       "0  fake_id_354    0     0      0          0          0       0\n",
       "1  fake_id_354    1     0      0          0          0       0\n",
       "2  fake_id_354    2     0      0          0          0       0\n",
       "3  fake_id_354    3     0      0          0          0       0\n",
       "4  fake_id_354    4     0      0          0          0       0"
      ]
     },
     "execution_count": 52,
     "metadata": {},
     "output_type": "execute_result"
    }
   ],
   "source": [
    "imputed_df.head()"
   ]
  },
  {
   "cell_type": "code",
   "execution_count": 53,
   "metadata": {},
   "outputs": [],
   "source": [
    "exercises_1 = exercises_1.drop('next_day',axis=1)\n",
    "df = pd.concat([left_df,exercises_1,imputed_df])\n",
    "df = df.sort_values(by=['fake_user_id','Day'])"
   ]
  },
  {
   "cell_type": "code",
   "execution_count": 54,
   "metadata": {},
   "outputs": [],
   "source": [
    "# Getting the sum of exercises of each muscle group\n",
    "df1 = df[df['Day']!=14].groupby('fake_user_id').sum()[['Back', 'Chest', 'Quadricep', 'Shoulders', 'Tricep']].reset_index()"
   ]
  },
  {
   "cell_type": "code",
   "execution_count": 55,
   "metadata": {
    "scrolled": true
   },
   "outputs": [],
   "source": [
    "df2 = df.set_index(['fake_user_id','Day']).sum(axis=1).reset_index().rename(columns={0:'times'})"
   ]
  },
  {
   "cell_type": "code",
   "execution_count": 56,
   "metadata": {
    "scrolled": true
   },
   "outputs": [
    {
     "data": {
      "text/html": [
       "<div>\n",
       "<style scoped>\n",
       "    .dataframe tbody tr th:only-of-type {\n",
       "        vertical-align: middle;\n",
       "    }\n",
       "\n",
       "    .dataframe tbody tr th {\n",
       "        vertical-align: top;\n",
       "    }\n",
       "\n",
       "    .dataframe thead th {\n",
       "        text-align: right;\n",
       "    }\n",
       "</style>\n",
       "<table border=\"1\" class=\"dataframe\">\n",
       "  <thead>\n",
       "    <tr style=\"text-align: right;\">\n",
       "      <th></th>\n",
       "      <th>fake_user_id</th>\n",
       "      <th>0</th>\n",
       "      <th>1</th>\n",
       "      <th>2</th>\n",
       "      <th>3</th>\n",
       "      <th>4</th>\n",
       "      <th>5</th>\n",
       "      <th>6</th>\n",
       "      <th>7</th>\n",
       "      <th>8</th>\n",
       "      <th>9</th>\n",
       "      <th>10</th>\n",
       "      <th>11</th>\n",
       "      <th>12</th>\n",
       "      <th>13</th>\n",
       "      <th>Back</th>\n",
       "      <th>Chest</th>\n",
       "      <th>Quadricep</th>\n",
       "      <th>Shoulders</th>\n",
       "      <th>Tricep</th>\n",
       "    </tr>\n",
       "  </thead>\n",
       "  <tbody>\n",
       "    <tr>\n",
       "      <th>0</th>\n",
       "      <td>fake_id_351</td>\n",
       "      <td>3</td>\n",
       "      <td>0</td>\n",
       "      <td>0</td>\n",
       "      <td>0</td>\n",
       "      <td>10</td>\n",
       "      <td>4</td>\n",
       "      <td>3</td>\n",
       "      <td>0</td>\n",
       "      <td>4</td>\n",
       "      <td>0</td>\n",
       "      <td>0</td>\n",
       "      <td>11</td>\n",
       "      <td>6</td>\n",
       "      <td>0</td>\n",
       "      <td>0</td>\n",
       "      <td>10</td>\n",
       "      <td>31</td>\n",
       "      <td>0</td>\n",
       "      <td>0</td>\n",
       "    </tr>\n",
       "    <tr>\n",
       "      <th>1</th>\n",
       "      <td>fake_id_352</td>\n",
       "      <td>0</td>\n",
       "      <td>0</td>\n",
       "      <td>8</td>\n",
       "      <td>0</td>\n",
       "      <td>0</td>\n",
       "      <td>4</td>\n",
       "      <td>0</td>\n",
       "      <td>0</td>\n",
       "      <td>0</td>\n",
       "      <td>0</td>\n",
       "      <td>0</td>\n",
       "      <td>0</td>\n",
       "      <td>0</td>\n",
       "      <td>0</td>\n",
       "      <td>4</td>\n",
       "      <td>0</td>\n",
       "      <td>8</td>\n",
       "      <td>0</td>\n",
       "      <td>0</td>\n",
       "    </tr>\n",
       "    <tr>\n",
       "      <th>2</th>\n",
       "      <td>fake_id_353</td>\n",
       "      <td>0</td>\n",
       "      <td>0</td>\n",
       "      <td>0</td>\n",
       "      <td>0</td>\n",
       "      <td>0</td>\n",
       "      <td>0</td>\n",
       "      <td>0</td>\n",
       "      <td>0</td>\n",
       "      <td>0</td>\n",
       "      <td>0</td>\n",
       "      <td>0</td>\n",
       "      <td>0</td>\n",
       "      <td>4</td>\n",
       "      <td>0</td>\n",
       "      <td>0</td>\n",
       "      <td>0</td>\n",
       "      <td>4</td>\n",
       "      <td>0</td>\n",
       "      <td>0</td>\n",
       "    </tr>\n",
       "    <tr>\n",
       "      <th>3</th>\n",
       "      <td>fake_id_354</td>\n",
       "      <td>0</td>\n",
       "      <td>0</td>\n",
       "      <td>0</td>\n",
       "      <td>0</td>\n",
       "      <td>0</td>\n",
       "      <td>0</td>\n",
       "      <td>0</td>\n",
       "      <td>0</td>\n",
       "      <td>0</td>\n",
       "      <td>0</td>\n",
       "      <td>0</td>\n",
       "      <td>0</td>\n",
       "      <td>0</td>\n",
       "      <td>0</td>\n",
       "      <td>0</td>\n",
       "      <td>0</td>\n",
       "      <td>0</td>\n",
       "      <td>0</td>\n",
       "      <td>0</td>\n",
       "    </tr>\n",
       "    <tr>\n",
       "      <th>4</th>\n",
       "      <td>fake_id_355</td>\n",
       "      <td>0</td>\n",
       "      <td>0</td>\n",
       "      <td>0</td>\n",
       "      <td>0</td>\n",
       "      <td>0</td>\n",
       "      <td>0</td>\n",
       "      <td>0</td>\n",
       "      <td>8</td>\n",
       "      <td>0</td>\n",
       "      <td>0</td>\n",
       "      <td>4</td>\n",
       "      <td>0</td>\n",
       "      <td>0</td>\n",
       "      <td>0</td>\n",
       "      <td>4</td>\n",
       "      <td>4</td>\n",
       "      <td>4</td>\n",
       "      <td>0</td>\n",
       "      <td>0</td>\n",
       "    </tr>\n",
       "  </tbody>\n",
       "</table>\n",
       "</div>"
      ],
      "text/plain": [
       "  fake_user_id  0  1  2  3   4  5  6  7  8  9  10  11  12  13  Back  Chest  \\\n",
       "0  fake_id_351  3  0  0  0  10  4  3  0  4  0   0  11   6   0     0     10   \n",
       "1  fake_id_352  0  0  8  0   0  4  0  0  0  0   0   0   0   0     4      0   \n",
       "2  fake_id_353  0  0  0  0   0  0  0  0  0  0   0   0   4   0     0      0   \n",
       "3  fake_id_354  0  0  0  0   0  0  0  0  0  0   0   0   0   0     0      0   \n",
       "4  fake_id_355  0  0  0  0   0  0  0  8  0  0   4   0   0   0     4      4   \n",
       "\n",
       "   Quadricep  Shoulders  Tricep  \n",
       "0         31          0       0  \n",
       "1          8          0       0  \n",
       "2          4          0       0  \n",
       "3          0          0       0  \n",
       "4          4          0       0  "
      ]
     },
     "execution_count": 56,
     "metadata": {},
     "output_type": "execute_result"
    }
   ],
   "source": [
    "df2 = df2[df2['Day']!=14].pivot_table(index=['fake_user_id'], columns='Day', values='times', fill_value=0).reset_index()\n",
    "df2 = df2.merge(df1)\n",
    "df2.head()"
   ]
  },
  {
   "cell_type": "code",
   "execution_count": 57,
   "metadata": {},
   "outputs": [],
   "source": [
    "df2['churn'] = np.where(df2['fake_user_id'].isin(active_user_ids),0,1)"
   ]
  },
  {
   "cell_type": "code",
   "execution_count": 58,
   "metadata": {},
   "outputs": [
    {
     "data": {
      "text/html": [
       "<div>\n",
       "<style scoped>\n",
       "    .dataframe tbody tr th:only-of-type {\n",
       "        vertical-align: middle;\n",
       "    }\n",
       "\n",
       "    .dataframe tbody tr th {\n",
       "        vertical-align: top;\n",
       "    }\n",
       "\n",
       "    .dataframe thead th {\n",
       "        text-align: right;\n",
       "    }\n",
       "</style>\n",
       "<table border=\"1\" class=\"dataframe\">\n",
       "  <thead>\n",
       "    <tr style=\"text-align: right;\">\n",
       "      <th></th>\n",
       "      <th>fake_user_id</th>\n",
       "      <th>0</th>\n",
       "      <th>1</th>\n",
       "      <th>2</th>\n",
       "      <th>3</th>\n",
       "      <th>4</th>\n",
       "      <th>5</th>\n",
       "      <th>6</th>\n",
       "      <th>7</th>\n",
       "      <th>8</th>\n",
       "      <th>...</th>\n",
       "      <th>10</th>\n",
       "      <th>11</th>\n",
       "      <th>12</th>\n",
       "      <th>13</th>\n",
       "      <th>Back</th>\n",
       "      <th>Chest</th>\n",
       "      <th>Quadricep</th>\n",
       "      <th>Shoulders</th>\n",
       "      <th>Tricep</th>\n",
       "      <th>churn</th>\n",
       "    </tr>\n",
       "  </thead>\n",
       "  <tbody>\n",
       "    <tr>\n",
       "      <th>0</th>\n",
       "      <td>fake_id_351</td>\n",
       "      <td>3</td>\n",
       "      <td>0</td>\n",
       "      <td>0</td>\n",
       "      <td>0</td>\n",
       "      <td>10</td>\n",
       "      <td>4</td>\n",
       "      <td>3</td>\n",
       "      <td>0</td>\n",
       "      <td>4</td>\n",
       "      <td>...</td>\n",
       "      <td>0</td>\n",
       "      <td>11</td>\n",
       "      <td>6</td>\n",
       "      <td>0</td>\n",
       "      <td>0</td>\n",
       "      <td>10</td>\n",
       "      <td>31</td>\n",
       "      <td>0</td>\n",
       "      <td>0</td>\n",
       "      <td>0</td>\n",
       "    </tr>\n",
       "    <tr>\n",
       "      <th>1</th>\n",
       "      <td>fake_id_352</td>\n",
       "      <td>0</td>\n",
       "      <td>0</td>\n",
       "      <td>8</td>\n",
       "      <td>0</td>\n",
       "      <td>0</td>\n",
       "      <td>4</td>\n",
       "      <td>0</td>\n",
       "      <td>0</td>\n",
       "      <td>0</td>\n",
       "      <td>...</td>\n",
       "      <td>0</td>\n",
       "      <td>0</td>\n",
       "      <td>0</td>\n",
       "      <td>0</td>\n",
       "      <td>4</td>\n",
       "      <td>0</td>\n",
       "      <td>8</td>\n",
       "      <td>0</td>\n",
       "      <td>0</td>\n",
       "      <td>1</td>\n",
       "    </tr>\n",
       "    <tr>\n",
       "      <th>2</th>\n",
       "      <td>fake_id_353</td>\n",
       "      <td>0</td>\n",
       "      <td>0</td>\n",
       "      <td>0</td>\n",
       "      <td>0</td>\n",
       "      <td>0</td>\n",
       "      <td>0</td>\n",
       "      <td>0</td>\n",
       "      <td>0</td>\n",
       "      <td>0</td>\n",
       "      <td>...</td>\n",
       "      <td>0</td>\n",
       "      <td>0</td>\n",
       "      <td>4</td>\n",
       "      <td>0</td>\n",
       "      <td>0</td>\n",
       "      <td>0</td>\n",
       "      <td>4</td>\n",
       "      <td>0</td>\n",
       "      <td>0</td>\n",
       "      <td>1</td>\n",
       "    </tr>\n",
       "    <tr>\n",
       "      <th>3</th>\n",
       "      <td>fake_id_354</td>\n",
       "      <td>0</td>\n",
       "      <td>0</td>\n",
       "      <td>0</td>\n",
       "      <td>0</td>\n",
       "      <td>0</td>\n",
       "      <td>0</td>\n",
       "      <td>0</td>\n",
       "      <td>0</td>\n",
       "      <td>0</td>\n",
       "      <td>...</td>\n",
       "      <td>0</td>\n",
       "      <td>0</td>\n",
       "      <td>0</td>\n",
       "      <td>0</td>\n",
       "      <td>0</td>\n",
       "      <td>0</td>\n",
       "      <td>0</td>\n",
       "      <td>0</td>\n",
       "      <td>0</td>\n",
       "      <td>1</td>\n",
       "    </tr>\n",
       "    <tr>\n",
       "      <th>4</th>\n",
       "      <td>fake_id_355</td>\n",
       "      <td>0</td>\n",
       "      <td>0</td>\n",
       "      <td>0</td>\n",
       "      <td>0</td>\n",
       "      <td>0</td>\n",
       "      <td>0</td>\n",
       "      <td>0</td>\n",
       "      <td>8</td>\n",
       "      <td>0</td>\n",
       "      <td>...</td>\n",
       "      <td>4</td>\n",
       "      <td>0</td>\n",
       "      <td>0</td>\n",
       "      <td>0</td>\n",
       "      <td>4</td>\n",
       "      <td>4</td>\n",
       "      <td>4</td>\n",
       "      <td>0</td>\n",
       "      <td>0</td>\n",
       "      <td>1</td>\n",
       "    </tr>\n",
       "  </tbody>\n",
       "</table>\n",
       "<p>5 rows × 21 columns</p>\n",
       "</div>"
      ],
      "text/plain": [
       "  fake_user_id  0  1  2  3   4  5  6  7  8  ...  10  11  12  13  Back  Chest  \\\n",
       "0  fake_id_351  3  0  0  0  10  4  3  0  4  ...   0  11   6   0     0     10   \n",
       "1  fake_id_352  0  0  8  0   0  4  0  0  0  ...   0   0   0   0     4      0   \n",
       "2  fake_id_353  0  0  0  0   0  0  0  0  0  ...   0   0   4   0     0      0   \n",
       "3  fake_id_354  0  0  0  0   0  0  0  0  0  ...   0   0   0   0     0      0   \n",
       "4  fake_id_355  0  0  0  0   0  0  0  8  0  ...   4   0   0   0     4      4   \n",
       "\n",
       "   Quadricep  Shoulders  Tricep  churn  \n",
       "0         31          0       0      0  \n",
       "1          8          0       0      1  \n",
       "2          4          0       0      1  \n",
       "3          0          0       0      1  \n",
       "4          4          0       0      1  \n",
       "\n",
       "[5 rows x 21 columns]"
      ]
     },
     "execution_count": 58,
     "metadata": {},
     "output_type": "execute_result"
    }
   ],
   "source": [
    "df2.head()"
   ]
  },
  {
   "cell_type": "code",
   "execution_count": 59,
   "metadata": {},
   "outputs": [
    {
     "data": {
      "text/html": [
       "<div>\n",
       "<style scoped>\n",
       "    .dataframe tbody tr th:only-of-type {\n",
       "        vertical-align: middle;\n",
       "    }\n",
       "\n",
       "    .dataframe tbody tr th {\n",
       "        vertical-align: top;\n",
       "    }\n",
       "\n",
       "    .dataframe thead th {\n",
       "        text-align: right;\n",
       "    }\n",
       "</style>\n",
       "<table border=\"1\" class=\"dataframe\">\n",
       "  <thead>\n",
       "    <tr style=\"text-align: right;\">\n",
       "      <th></th>\n",
       "      <th>Back</th>\n",
       "      <th>Chest</th>\n",
       "      <th>Quadricep</th>\n",
       "      <th>Shoulders</th>\n",
       "      <th>Tricep</th>\n",
       "    </tr>\n",
       "    <tr>\n",
       "      <th>churn</th>\n",
       "      <th></th>\n",
       "      <th></th>\n",
       "      <th></th>\n",
       "      <th></th>\n",
       "      <th></th>\n",
       "    </tr>\n",
       "  </thead>\n",
       "  <tbody>\n",
       "    <tr>\n",
       "      <th>0</th>\n",
       "      <td>5.190476</td>\n",
       "      <td>4.238095</td>\n",
       "      <td>7.142857</td>\n",
       "      <td>2.333333</td>\n",
       "      <td>0.619048</td>\n",
       "    </tr>\n",
       "    <tr>\n",
       "      <th>1</th>\n",
       "      <td>1.466667</td>\n",
       "      <td>3.000000</td>\n",
       "      <td>3.013333</td>\n",
       "      <td>1.440000</td>\n",
       "      <td>0.893333</td>\n",
       "    </tr>\n",
       "  </tbody>\n",
       "</table>\n",
       "</div>"
      ],
      "text/plain": [
       "           Back     Chest  Quadricep  Shoulders    Tricep\n",
       "churn                                                    \n",
       "0      5.190476  4.238095   7.142857   2.333333  0.619048\n",
       "1      1.466667  3.000000   3.013333   1.440000  0.893333"
      ]
     },
     "execution_count": 59,
     "metadata": {},
     "output_type": "execute_result"
    }
   ],
   "source": [
    "df2.groupby('churn')[['Back','Chest','Quadricep','Shoulders','Tricep']].mean()"
   ]
  },
  {
   "cell_type": "markdown",
   "metadata": {},
   "source": [
    "We can see that the average number of back exercises active customers has done is about 4 times that of churned customers; For quadricep, the average number of exercises active customers has done is more than 2 times that of churned customers; But for chest, shoulders, the difference is not that large and for tricep, it shows that the average number of exercises done by churned customers is even higher than that of the active customers; Remember, the above analysis has shown that the average number of exercises active customers has done is twice that of churned customers. Based on the results of these two analyses, we can see that the active customers tend to do more quadricep and back exercises; Clearly, the types of muscle groups customers have been working on is informative in determining which customer is going to churn."
   ]
  },
  {
   "cell_type": "markdown",
   "metadata": {},
   "source": [
    "The 0-13 columns indicate the total exercises of every day in the previous 14 day period for each customer while the muscle group columns show the total exercises done for different muscle groups; And the churn column indicate the status of each customer; The dataset is ready for model building"
   ]
  },
  {
   "cell_type": "markdown",
   "metadata": {},
   "source": [
    "# Churn Prediction Model "
   ]
  },
  {
   "cell_type": "markdown",
   "metadata": {},
   "source": [
    "## Splitting training and testing sets"
   ]
  },
  {
   "cell_type": "code",
   "execution_count": 60,
   "metadata": {},
   "outputs": [],
   "source": [
    "y=df2['churn']\n",
    "X=df2.drop(['churn','fake_user_id'],axis=1)"
   ]
  },
  {
   "cell_type": "code",
   "execution_count": 61,
   "metadata": {},
   "outputs": [],
   "source": [
    "X_train, X_test, y_train, y_test = \\\n",
    "    train_test_split(X, y, test_size = 0.4,random_state = 42, stratify = y)"
   ]
  },
  {
   "cell_type": "markdown",
   "metadata": {},
   "source": [
    "## Model Selection"
   ]
  },
  {
   "cell_type": "markdown",
   "metadata": {},
   "source": [
    "For the following analysis, I will try to build the model based on five commonly seen machine learning algorithms(K nearest neighbour, Logistic Regression, Decision Tree, Support Vector Machine and Random Forest). They can be used in this model building as they are supervised machine learning and predict the labels of test objects.\n",
    "\n",
    "I will also show the performance of four metrics of models (accuracy, precision, recall, f1); Accuracy measures how correct the models' predictions are; Precision measures out of all predicted churned customers, how many are correctly predicted while recall measures the percentage of actual churned customers the model has successfully identified; As there is tradeoff between precision and recall(one of them could become 0 and makes the other one very high, f1 which is the harmonic mean of the recall and precision is also used in this analysis to show the performance of five models;\n",
    "\n",
    "Out of four metrics I have used, I mainly use recall as the metric to gauge the performace of classifiers; In a churn problem, it is more important for the model to find out churned customers as many as possible, thus I chose recall.\n"
   ]
  },
  {
   "cell_type": "code",
   "execution_count": 62,
   "metadata": {},
   "outputs": [],
   "source": [
    "names = ['KNN','Logistic_regression','Decision_tree','SVC','Random Forest']\n",
    "classifiers = [KNeighborsClassifier(algorithm='auto'),\n",
    "               linear_model.LogisticRegression(random_state=42),\n",
    "               DecisionTreeClassifier(),\n",
    "               SVC(),\n",
    "               RandomForestClassifier(random_state=1)]\n",
    "parameters = {'KNN':{\"n_neighbors\": range(5,20),\n",
    "                     \"weights\": ['uniform','distance']},\n",
    "              'Logistic_regression': {\"C\": np.arange(0.5,2.0,0.1)},\n",
    "              'Decision_tree':{\"max_depth\": range(3,15),\n",
    "                               \"criterion\" : ['gini', 'entropy']},\n",
    "              'SVC':{'C': np.arange(0.5,10,0.1),\n",
    "                     'kernel':['rbf', 'linear']},\n",
    "              'Random Forest':{\"max_depth\": range(3,15),\n",
    "                               \"criterion\" : ['gini', 'entropy']}}"
   ]
  },
  {
   "cell_type": "code",
   "execution_count": 63,
   "metadata": {
    "scrolled": false
   },
   "outputs": [
    {
     "name": "stdout",
     "output_type": "stream",
     "text": [
      "\n",
      "name: KNN\n",
      "best_params: {'n_neighbors': 5, 'weights': 'uniform'}\n",
      "[[ 0  9]\n",
      " [ 0 30]]\n",
      "{'accuracy': 0.7692307692307693, 'precision': 0.7692307692307693, 'recall': 1.0, 'f1': 0.7692307692307693}\n",
      "\n",
      "name: Logistic_regression\n",
      "best_params: {'C': 0.5}\n",
      "[[ 1  8]\n",
      " [ 4 26]]\n",
      "{'accuracy': 0.6923076923076923, 'precision': 0.7647058823529411, 'recall': 0.8666666666666667, 'f1': 0.6923076923076923}\n",
      "\n",
      "name: Decision_tree\n",
      "best_params: {'criterion': 'gini', 'max_depth': 4}\n",
      "[[ 2  7]\n",
      " [ 3 27]]\n",
      "{'accuracy': 0.7435897435897436, 'precision': 0.7941176470588235, 'recall': 0.9, 'f1': 0.7435897435897437}\n",
      "\n",
      "name: SVC\n",
      "best_params: {'C': 0.5, 'kernel': 'rbf'}\n",
      "[[ 0  9]\n",
      " [ 0 30]]\n",
      "{'accuracy': 0.7692307692307693, 'precision': 0.7692307692307693, 'recall': 1.0, 'f1': 0.7692307692307693}\n",
      "\n",
      "name: Random Forest\n",
      "best_params: {'criterion': 'entropy', 'max_depth': 3}\n",
      "[[ 1  8]\n",
      " [ 1 29]]\n",
      "{'accuracy': 0.7692307692307693, 'precision': 0.7837837837837838, 'recall': 0.9666666666666667, 'f1': 0.7692307692307693}\n"
     ]
    }
   ],
   "source": [
    "warnings.simplefilter('ignore')\n",
    "for name, clf in zip(names, classifiers):\n",
    "    grid_clf = GridSearchCV(clf, parameters[name],cv = 10, scoring='recall')\n",
    "    grid_clf.fit(X_train, y_train)\n",
    "    print ('\\nname:', name)\n",
    "    print ('best_params:', grid_clf.best_params_)\n",
    "    \n",
    "    # Look at the model with other evaluation metrics\n",
    "    pred = grid_clf.predict(X_test)\n",
    "    accuracy = accuracy_score(y_test, pred)\n",
    "    precision = precision_score(y_test, pred,average='binary')\n",
    "    recall = recall_score(y_test, pred,average='binary')\n",
    "    f1 = f1_score(y_test, pred,average='micro')\n",
    "    \n",
    "    eval_dict = {'accuracy': accuracy,\n",
    "                 'precision': precision,\n",
    "                 'recall': recall,\n",
    "                 'f1': f1}\n",
    "    print(confusion_matrix(y_test, pred))\n",
    "    print(eval_dict)"
   ]
  },
  {
   "cell_type": "markdown",
   "metadata": {},
   "source": [
    "Randorm forest, support vector machines and K-nearest neighbour have good recall scores; However, at the closer look at them, K-nearest neightbour and Support Vector Machine nearly predicts all of the test objects to be churned; This is equal to take marketing strategies towards all customers and thus the model will not be needed; Thus, it is reasonable to use random forest.\n",
    "\n",
    "Intuitively, random forest is very suited for this problem. First, the previous exploratory analyses have shown that there is great distinction between churned and active customers in terms of the inputted features. Having great distinction can make decision trees which are the components of random forest split nodes easily; Secondly, random forest is an ensemble model made up of random trees. It has improved model performance and less bias than decision tree; One of the biggest cons of decision tree is it is unstable and has high variance. Small changes in the training dataset can lead to big change in the structure of the decision tree. But for random forest, each tree of random forest uses a different subset of features and training data. And it uses majority votes of trees when predicting. Variance can be reduced."
   ]
  },
  {
   "cell_type": "code",
   "execution_count": 64,
   "metadata": {
    "scrolled": true
   },
   "outputs": [
    {
     "name": "stdout",
     "output_type": "stream",
     "text": [
      "[[ 1  8]\n",
      " [ 1 29]]\n",
      "{'accuracy': 0.7692307692307693, 'precision': 0.7837837837837838, 'recall': 0.9666666666666667, 'f1': 0.7692307692307693}\n"
     ]
    }
   ],
   "source": [
    "clf = RandomForestClassifier(criterion='entropy', max_depth=3,random_state=1)\n",
    "clf.fit(X_train, y_train)\n",
    "pred = clf.predict(X_test)\n",
    "accuracy = accuracy_score(y_test, pred)\n",
    "precision = precision_score(y_test, pred,average='binary')\n",
    "recall = recall_score(y_test, pred,average='binary')\n",
    "f1 = f1_score(y_test, pred,average='micro')\n",
    "eval_dict = {'accuracy': accuracy,\n",
    "                 'precision': precision,\n",
    "                 'recall': recall,\n",
    "                 'f1': f1}\n",
    "print(confusion_matrix(y_test, pred))\n",
    "print(eval_dict)"
   ]
  },
  {
   "cell_type": "code",
   "execution_count": 65,
   "metadata": {
    "scrolled": true
   },
   "outputs": [
    {
     "data": {
      "text/html": [
       "<div>\n",
       "<style scoped>\n",
       "    .dataframe tbody tr th:only-of-type {\n",
       "        vertical-align: middle;\n",
       "    }\n",
       "\n",
       "    .dataframe tbody tr th {\n",
       "        vertical-align: top;\n",
       "    }\n",
       "\n",
       "    .dataframe thead th {\n",
       "        text-align: right;\n",
       "    }\n",
       "</style>\n",
       "<table border=\"1\" class=\"dataframe\">\n",
       "  <thead>\n",
       "    <tr style=\"text-align: right;\">\n",
       "      <th></th>\n",
       "      <th>Features</th>\n",
       "      <th>Importances</th>\n",
       "    </tr>\n",
       "  </thead>\n",
       "  <tbody>\n",
       "    <tr>\n",
       "      <th>16</th>\n",
       "      <td>Quadricep</td>\n",
       "      <td>0.313433</td>\n",
       "    </tr>\n",
       "    <tr>\n",
       "      <th>14</th>\n",
       "      <td>Back</td>\n",
       "      <td>0.124171</td>\n",
       "    </tr>\n",
       "    <tr>\n",
       "      <th>1</th>\n",
       "      <td>1</td>\n",
       "      <td>0.113886</td>\n",
       "    </tr>\n",
       "    <tr>\n",
       "      <th>13</th>\n",
       "      <td>13</td>\n",
       "      <td>0.110380</td>\n",
       "    </tr>\n",
       "    <tr>\n",
       "      <th>15</th>\n",
       "      <td>Chest</td>\n",
       "      <td>0.100910</td>\n",
       "    </tr>\n",
       "    <tr>\n",
       "      <th>4</th>\n",
       "      <td>4</td>\n",
       "      <td>0.051786</td>\n",
       "    </tr>\n",
       "    <tr>\n",
       "      <th>9</th>\n",
       "      <td>9</td>\n",
       "      <td>0.040784</td>\n",
       "    </tr>\n",
       "    <tr>\n",
       "      <th>18</th>\n",
       "      <td>Tricep</td>\n",
       "      <td>0.039682</td>\n",
       "    </tr>\n",
       "    <tr>\n",
       "      <th>12</th>\n",
       "      <td>12</td>\n",
       "      <td>0.030093</td>\n",
       "    </tr>\n",
       "    <tr>\n",
       "      <th>7</th>\n",
       "      <td>7</td>\n",
       "      <td>0.028819</td>\n",
       "    </tr>\n",
       "    <tr>\n",
       "      <th>10</th>\n",
       "      <td>10</td>\n",
       "      <td>0.025144</td>\n",
       "    </tr>\n",
       "    <tr>\n",
       "      <th>6</th>\n",
       "      <td>6</td>\n",
       "      <td>0.010514</td>\n",
       "    </tr>\n",
       "    <tr>\n",
       "      <th>3</th>\n",
       "      <td>3</td>\n",
       "      <td>0.010398</td>\n",
       "    </tr>\n",
       "    <tr>\n",
       "      <th>8</th>\n",
       "      <td>8</td>\n",
       "      <td>0.000000</td>\n",
       "    </tr>\n",
       "    <tr>\n",
       "      <th>11</th>\n",
       "      <td>11</td>\n",
       "      <td>0.000000</td>\n",
       "    </tr>\n",
       "    <tr>\n",
       "      <th>5</th>\n",
       "      <td>5</td>\n",
       "      <td>0.000000</td>\n",
       "    </tr>\n",
       "    <tr>\n",
       "      <th>2</th>\n",
       "      <td>2</td>\n",
       "      <td>0.000000</td>\n",
       "    </tr>\n",
       "    <tr>\n",
       "      <th>17</th>\n",
       "      <td>Shoulders</td>\n",
       "      <td>0.000000</td>\n",
       "    </tr>\n",
       "    <tr>\n",
       "      <th>0</th>\n",
       "      <td>0</td>\n",
       "      <td>0.000000</td>\n",
       "    </tr>\n",
       "  </tbody>\n",
       "</table>\n",
       "</div>"
      ],
      "text/plain": [
       "     Features  Importances\n",
       "16  Quadricep     0.313433\n",
       "14       Back     0.124171\n",
       "1           1     0.113886\n",
       "13         13     0.110380\n",
       "15      Chest     0.100910\n",
       "4           4     0.051786\n",
       "9           9     0.040784\n",
       "18     Tricep     0.039682\n",
       "12         12     0.030093\n",
       "7           7     0.028819\n",
       "10         10     0.025144\n",
       "6           6     0.010514\n",
       "3           3     0.010398\n",
       "8           8     0.000000\n",
       "11         11     0.000000\n",
       "5           5     0.000000\n",
       "2           2     0.000000\n",
       "17  Shoulders     0.000000\n",
       "0           0     0.000000"
      ]
     },
     "execution_count": 65,
     "metadata": {},
     "output_type": "execute_result"
    }
   ],
   "source": [
    "features_df = pd.DataFrame({'Features':X.columns,\n",
    "                            'Importances':clf.feature_importances_})\n",
    "features_df.sort_values(by='Importances',ascending=False)"
   ]
  },
  {
   "cell_type": "markdown",
   "metadata": {},
   "source": [
    "We can see that the number of quadricep exercises, the number of back exercises, the number of exercises done on day 2 and 14 are the most important features in determining which customers are going to churn out; The result is also in line with the above exploratory analysis."
   ]
  },
  {
   "cell_type": "markdown",
   "metadata": {},
   "source": [
    "# Limitations & Next Step"
   ]
  },
  {
   "cell_type": "markdown",
   "metadata": {},
   "source": [
    "As the dataset is small, the model is not very robust in predicting churn. \n",
    "\n",
    "In the following section, I'll be talking about how I will be building models if I am given a larger dataset.\n",
    "\n",
    "About churn prediction:\n",
    "1. If there is more information provided, I will be looking at other information such as the profiles for churned and active groups to see if they are also informative in churn prediction; And if in that case, I have discovered many more features, I'll be doing feature selection or dimensionality reduction.\n",
    "2. And if in the real dataset, it is likely that the target label is hugely imbalanced. To cope with this problem, I'll take a subset from the data by randomly sampling from active and churned groups so that the ratio of active to churned customers be normal(e.g.one to four); Also, I'll be using AUC to gauge performance of models;\n",
    "\n",
    "What other analyses can be done with a larger dataset?\n",
    "1. Association rules analysis; As there are only 5 muscle groups in this small dataset, it doesn't make sense to do association rules analysis; But if the real dataset is provided, I can use association rules analysis to find out the most commonly appeared muscle groups exercises and provide recommendations to customers; For example, I discover that chest, shoulders, and triceps appear together often. Then I can recommend customers who have focused on chest and triceps to also work on shoulders;\n",
    "\n",
    "2. Clustering analysis; We can also perform clustering analysis on customers based on their usage; This can be used when we are trying to do marketing. We can develop personalized marketing strategies for different segments of customers; For example, for people who work out heavily, we can focus on building muscles; But for people who prefer light workouts, we can focus on staying healthy.\n"
   ]
  },
  {
   "cell_type": "markdown",
   "metadata": {},
   "source": [
    "# Conclusion"
   ]
  },
  {
   "cell_type": "markdown",
   "metadata": {},
   "source": [
    "In this analysis, I have used random forest model to predict customer churn based on the number of exercises done in the previous 14 days and different muscle groups. The model can identify 96% of actual churned customers. However, as the dataset is very small, it is likely that the model is not very robust. "
   ]
  }
 ],
 "metadata": {
  "kernelspec": {
   "display_name": "Python 3",
   "language": "python",
   "name": "python3"
  },
  "language_info": {
   "codemirror_mode": {
    "name": "ipython",
    "version": 3
   },
   "file_extension": ".py",
   "mimetype": "text/x-python",
   "name": "python",
   "nbconvert_exporter": "python",
   "pygments_lexer": "ipython3",
   "version": "3.7.3"
  }
 },
 "nbformat": 4,
 "nbformat_minor": 2
}
